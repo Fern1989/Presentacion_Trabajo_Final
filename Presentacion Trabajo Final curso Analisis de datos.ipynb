{
 "cells": [
  {
   "cell_type": "markdown",
   "id": "committed-candidate",
   "metadata": {},
   "source": [
    "\n",
    "# Poblacion mundial en el año 2020\n",
    "## Análisis comparativo de la densidad de población y el territorio de países"
   ]
  },
  {
   "cell_type": "markdown",
   "id": "distant-committee",
   "metadata": {},
   "source": [
    "# Introducción\n",
    "### En el presente trabajo vamos a visualizar información referida a  población, extensión territorial y cantidad de habitantes por kilómetro cuadrado de los países del mundo durante el año 2020 con el objetivo de comprender como estás variables se relacionan en cada uno de ellos.\n",
    "\n",
    "\n",
    "# Objetivos\n",
    "### - Conocer cuáles son los diez países con mayor y menor población en 2020\n",
    "### - Determinar si los países de mayor población y mayor superficie de territorio son aquellos de mayor densidad de población por kilómetro cuadrado.\n",
    "### -Visuaizar aspectos destacados y/o comunes de los paises con mayor densidad de población\n"
   ]
  },
  {
   "cell_type": "markdown",
   "id": "monetary-calendar",
   "metadata": {},
   "source": [
    "# Objeto de Análisis : \n",
    "### dataset descargado de https://www.kaggle.com/tanuprabhu/population-by-country-2020\n",
    "\n",
    "\n",
    "\n",
    "\n",
    "\n",
    "# Herramientas de Trabajo -  Librerías: \n",
    "## pandas, math, matplotlib, numpy"
   ]
  },
  {
   "cell_type": "code",
   "execution_count": null,
   "id": "advisory-print",
   "metadata": {},
   "outputs": [],
   "source": []
  }
 ],
 "metadata": {
  "kernelspec": {
   "display_name": "Python 3",
   "language": "python",
   "name": "python3"
  },
  "language_info": {
   "codemirror_mode": {
    "name": "ipython",
    "version": 3
   },
   "file_extension": ".py",
   "mimetype": "text/x-python",
   "name": "python",
   "nbconvert_exporter": "python",
   "pygments_lexer": "ipython3",
   "version": "3.8.5"
  }
 },
 "nbformat": 4,
 "nbformat_minor": 5
}
